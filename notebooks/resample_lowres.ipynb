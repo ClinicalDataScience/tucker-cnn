{
 "cells": [
  {
   "cell_type": "code",
   "execution_count": 2,
   "id": "c2a142a6-f040-4ae5-9cd2-2feeffbfe080",
   "metadata": {},
   "outputs": [],
   "source": [
    "import os\n",
    "import nibabel as nib\n",
    "import numpy as np\n",
    "from pathlib import Path\n",
    "from totalsegmentator.resampling import change_spacing\n",
    "import multiprocessing\n",
    "from tqdm.auto import tqdm\n",
    "\n",
    "WORKER = 60"
   ]
  },
  {
   "cell_type": "code",
   "execution_count": 7,
   "id": "5d38d521-3fa3-45ae-b361-43a15f139b3d",
   "metadata": {},
   "outputs": [
    {
     "name": "stderr",
     "output_type": "stream",
     "text": [
      "100%|███████████████████████████████████████| 1139/1139 [00:52<00:00, 21.84it/s]\n"
     ]
    }
   ],
   "source": [
    "path = Path(\"/data/core-rad/data/tucker/raw/Dataset008-lowres-remapped\")\n",
    "resample = 3.0\n",
    "folder = \"imagesTr\"\n",
    "order = 3\n",
    "subjects = os.listdir(path / folder)\n",
    "\n",
    "def load_res_save(sample, order=3): #0 for label\n",
    "    img_in_orig = nib.load(sample)\n",
    "    img_in = nib.Nifti1Image(img_in_orig.get_fdata(), img_in_orig.affine)\n",
    "    img_in_rsp = change_spacing(img_in, [resample, resample, resample], order=order, dtype=np.int32, nr_cpus=1)  \n",
    "    nib.save(img_in_rsp, sample)\n",
    "    #return img_in_rsp\n",
    "\n",
    "def lrs(idx):\n",
    "    su = subjects[idx]\n",
    "    file = path / folder / su\n",
    "    load_res_save(file, order=order)\n",
    "    \n",
    "with multiprocessing.Pool(WORKER) as p:\n",
    "    for i in tqdm(p.imap_unordered(lrs, range(len(subjects))), total=len(subjects)):\n",
    "        pass"
   ]
  },
  {
   "cell_type": "code",
   "execution_count": 9,
   "id": "bc35f867-1607-46af-b408-a9e59f25b2b3",
   "metadata": {},
   "outputs": [
    {
     "name": "stderr",
     "output_type": "stream",
     "text": [
      "100%|███████████████████████████████████████████| 89/89 [00:07<00:00, 12.13it/s]\n"
     ]
    }
   ],
   "source": [
    "path = Path(\"/data/core-rad/data/tucker/raw/Dataset008-lowres-remapped\")\n",
    "resample = 3.0\n",
    "folder = \"imagesTs\"\n",
    "order = 3\n",
    "subjects = os.listdir(path / folder)\n",
    "\n",
    "def load_res_save(sample, order=3): #1 for label\n",
    "    img_in_orig = nib.load(sample)\n",
    "    img_in = nib.Nifti1Image(img_in_orig.get_fdata(), img_in_orig.affine)\n",
    "    img_in_rsp = change_spacing(img_in, [resample, resample, resample], order=order, dtype=np.int32, nr_cpus=1)  \n",
    "    nib.save(img_in_rsp, sample)\n",
    "    #return img_in_rsp\n",
    "\n",
    "def lrs(idx):\n",
    "    su = subjects[idx]\n",
    "    file = path / folder / su\n",
    "    load_res_save(file, order=order)\n",
    "    \n",
    "with multiprocessing.Pool(WORKER) as p:\n",
    "    for i in tqdm(p.imap_unordered(lrs, range(len(subjects))), total=len(subjects)):\n",
    "        pass"
   ]
  },
  {
   "cell_type": "code",
   "execution_count": 10,
   "id": "c9f24572-43d3-4e1c-9190-b8c87d9eddd7",
   "metadata": {},
   "outputs": [
    {
     "name": "stderr",
     "output_type": "stream",
     "text": [
      "100%|██████████████████████████████████████| 1139/1139 [00:11<00:00, 100.28it/s]\n"
     ]
    }
   ],
   "source": [
    "path = Path(\"/data/core-rad/data/tucker/raw/Dataset008-lowres-remapped\")\n",
    "resample = 3.0\n",
    "folder = \"labelsTr\"\n",
    "order = 0\n",
    "subjects = os.listdir(path / folder)\n",
    "\n",
    "def load_res_save(sample, order=3): #1 for label\n",
    "    img_in_orig = nib.load(sample)\n",
    "    img_in = nib.Nifti1Image(img_in_orig.get_fdata(), img_in_orig.affine)\n",
    "    img_in_rsp = change_spacing(img_in, [resample, resample, resample], order=order, dtype=np.int32, nr_cpus=1)  \n",
    "    nib.save(img_in_rsp, sample)\n",
    "    #return img_in_rsp\n",
    "\n",
    "def lrs(idx):\n",
    "    su = subjects[idx]\n",
    "    file = path / folder / su\n",
    "    load_res_save(file, order=order)\n",
    "    \n",
    "with multiprocessing.Pool(WORKER) as p:\n",
    "    for i in tqdm(p.imap_unordered(lrs, range(len(subjects))), total=len(subjects)):\n",
    "        pass"
   ]
  },
  {
   "cell_type": "code",
   "execution_count": 11,
   "id": "90a8bc00-0019-416f-9fbe-d6d0ab2d8b89",
   "metadata": {},
   "outputs": [
    {
     "name": "stderr",
     "output_type": "stream",
     "text": [
      "100%|███████████████████████████████████████████| 89/89 [00:01<00:00, 69.76it/s]\n"
     ]
    }
   ],
   "source": [
    "path = Path(\"/data/core-rad/data/tucker/raw/Dataset008-lowres-remapped\")\n",
    "resample = 3.0\n",
    "folder = \"labelsTs\"\n",
    "order = 0\n",
    "subjects = os.listdir(path / folder)\n",
    "\n",
    "def load_res_save(sample, order=3): #1 for label\n",
    "    img_in_orig = nib.load(sample)\n",
    "    img_in = nib.Nifti1Image(img_in_orig.get_fdata(), img_in_orig.affine)\n",
    "    img_in_rsp = change_spacing(img_in, [resample, resample, resample], order=order, dtype=np.int32, nr_cpus=1)  \n",
    "    nib.save(img_in_rsp, sample)\n",
    "    #return img_in_rsp\n",
    "\n",
    "def lrs(idx):\n",
    "    su = subjects[idx]\n",
    "    file = path / folder / su\n",
    "    load_res_save(file, order=order)\n",
    "    \n",
    "with multiprocessing.Pool(WORKER) as p:\n",
    "    for i in tqdm(p.imap_unordered(lrs, range(len(subjects))), total=len(subjects)):\n",
    "        pass"
   ]
  },
  {
   "cell_type": "code",
   "execution_count": 2,
   "id": "f94d891d-ea6e-4113-b59e-77f3099e2d17",
   "metadata": {},
   "outputs": [
    {
     "name": "stdout",
     "output_type": "stream",
     "text": [
      "\n",
      "<class 'nibabel.nifti1.Nifti1Image'>\n",
      "data shape (116, 88, 150)\n",
      "affine:\n",
      "[[   2.99331474   -0.20043327    0.         -165.02062988]\n",
      " [   0.20016693    2.99329686    0.           21.76268005]\n",
      " [   0.            0.            3.            2.2342279 ]\n",
      " [   0.            0.            0.            1.        ]]\n",
      "metadata:\n",
      "<class 'nibabel.nifti1.Nifti1Header'> object, endian='<'\n",
      "sizeof_hdr      : 348\n",
      "data_type       : b''\n",
      "db_name         : b''\n",
      "extents         : 0\n",
      "session_error   : 0\n",
      "regular         : b''\n",
      "dim_info        : 0\n",
      "dim             : [  3 116  88 150   1   1   1   1]\n",
      "intent_p1       : 0.0\n",
      "intent_p2       : 0.0\n",
      "intent_p3       : 0.0\n",
      "intent_code     : none\n",
      "datatype        : int32\n",
      "bitpix          : 32\n",
      "slice_start     : 0\n",
      "pixdim          : [1. 3. 3. 3. 1. 1. 1. 1.]\n",
      "vox_offset      : 0.0\n",
      "scl_slope       : nan\n",
      "scl_inter       : nan\n",
      "slice_end       : 0\n",
      "slice_code      : unknown\n",
      "xyzt_units      : 0\n",
      "cal_max         : 0.0\n",
      "cal_min         : 0.0\n",
      "slice_duration  : 0.0\n",
      "toffset         : 0.0\n",
      "glmax           : 0\n",
      "glmin           : 0\n",
      "descrip         : b''\n",
      "aux_file        : b''\n",
      "qform_code      : unknown\n",
      "sform_code      : aligned\n",
      "quatern_b       : 0.0\n",
      "quatern_c       : 0.0\n",
      "quatern_d       : 0.03340199\n",
      "qoffset_x       : -165.02063\n",
      "qoffset_y       : 21.76268\n",
      "qoffset_z       : 2.234228\n",
      "srow_x          : [   2.9933147    -0.20043327    0.         -165.02063   ]\n",
      "srow_y          : [ 0.20016693  2.9932969   0.         21.76268   ]\n",
      "srow_z          : [0.       0.       3.       2.234228]\n",
      "intent_name     : b''\n",
      "magic           : b'n+1'\n",
      "\n"
     ]
    }
   ],
   "source": [
    "path2 = Path(\"/data/core-rad/data/tucker/raw/006-lowres/imagesTs/s0013_0000.nii.gz\")\n",
    "print(nib.load(path2))"
   ]
  },
  {
   "cell_type": "code",
   "execution_count": 15,
   "id": "4ebe797d-6960-456c-89b4-1a61ac681ebf",
   "metadata": {},
   "outputs": [
    {
     "name": "stdout",
     "output_type": "stream",
     "text": [
      "\n",
      "<class 'nibabel.nifti1.Nifti1Image'>\n",
      "data shape (231, 175, 301)\n",
      "affine:\n",
      "[[ 1.49665737e+00 -1.00216635e-01  0.00000000e+00 -1.65020630e+02]\n",
      " [ 1.00083463e-01  1.49664843e+00  0.00000000e+00  2.17626801e+01]\n",
      " [ 0.00000000e+00  0.00000000e+00  1.50000000e+00  2.23422790e+00]\n",
      " [ 0.00000000e+00  0.00000000e+00  0.00000000e+00  1.00000000e+00]]\n",
      "metadata:\n",
      "<class 'nibabel.nifti1.Nifti1Header'> object, endian='<'\n",
      "sizeof_hdr      : 348\n",
      "data_type       : b''\n",
      "db_name         : b''\n",
      "extents         : 0\n",
      "session_error   : 0\n",
      "regular         : b''\n",
      "dim_info        : 0\n",
      "dim             : [  3 231 175 301   1   1   1   1]\n",
      "intent_p1       : 0.0\n",
      "intent_p2       : 0.0\n",
      "intent_p3       : 0.0\n",
      "intent_code     : none\n",
      "datatype        : int16\n",
      "bitpix          : 16\n",
      "slice_start     : 0\n",
      "pixdim          : [1.  1.5 1.5 1.5 1.  1.  1.  1. ]\n",
      "vox_offset      : 0.0\n",
      "scl_slope       : nan\n",
      "scl_inter       : nan\n",
      "slice_end       : 0\n",
      "slice_code      : unknown\n",
      "xyzt_units      : 0\n",
      "cal_max         : 0.0\n",
      "cal_min         : 0.0\n",
      "slice_duration  : 0.0\n",
      "toffset         : 0.0\n",
      "glmax           : 0\n",
      "glmin           : 0\n",
      "descrip         : b''\n",
      "aux_file        : b''\n",
      "qform_code      : unknown\n",
      "sform_code      : aligned\n",
      "quatern_b       : 0.0\n",
      "quatern_c       : 0.0\n",
      "quatern_d       : 0.03340199\n",
      "qoffset_x       : -165.02063\n",
      "qoffset_y       : 21.76268\n",
      "qoffset_z       : 2.234228\n",
      "srow_x          : [ 1.49665737e+00 -1.00216635e-01  0.00000000e+00 -1.65020630e+02]\n",
      "srow_y          : [ 0.10008346  1.4966484   0.         21.76268   ]\n",
      "srow_z          : [0.       0.       1.5      2.234228]\n",
      "intent_name     : b''\n",
      "magic           : b'n+1'\n",
      "\n"
     ]
    }
   ],
   "source": [
    "path2 = Path(\"/data/core-rad/data/tucker/raw/006-lowres/imagesTs/s0013_0000.nii.gz\")\n",
    "print(nib.load(path2))"
   ]
  },
  {
   "cell_type": "code",
   "execution_count": 14,
   "id": "af4352ec-b5a1-48af-b798-0dce2b2feaef",
   "metadata": {},
   "outputs": [
    {
     "name": "stdout",
     "output_type": "stream",
     "text": [
      "\n",
      "<class 'nibabel.nifti1.Nifti1Image'>\n",
      "data shape (116, 88, 150)\n",
      "affine:\n",
      "[[   2.99331474   -0.20043327    0.         -165.02062988]\n",
      " [   0.20016693    2.99329686    0.           21.76268005]\n",
      " [   0.            0.            3.            2.2342279 ]\n",
      " [   0.            0.            0.            1.        ]]\n",
      "metadata:\n",
      "<class 'nibabel.nifti1.Nifti1Header'> object, endian='<'\n",
      "sizeof_hdr      : 348\n",
      "data_type       : b''\n",
      "db_name         : b''\n",
      "extents         : 0\n",
      "session_error   : 0\n",
      "regular         : b''\n",
      "dim_info        : 0\n",
      "dim             : [  3 116  88 150   1   1   1   1]\n",
      "intent_p1       : 0.0\n",
      "intent_p2       : 0.0\n",
      "intent_p3       : 0.0\n",
      "intent_code     : none\n",
      "datatype        : int32\n",
      "bitpix          : 32\n",
      "slice_start     : 0\n",
      "pixdim          : [1. 3. 3. 3. 1. 1. 1. 1.]\n",
      "vox_offset      : 0.0\n",
      "scl_slope       : nan\n",
      "scl_inter       : nan\n",
      "slice_end       : 0\n",
      "slice_code      : unknown\n",
      "xyzt_units      : 0\n",
      "cal_max         : 0.0\n",
      "cal_min         : 0.0\n",
      "slice_duration  : 0.0\n",
      "toffset         : 0.0\n",
      "glmax           : 0\n",
      "glmin           : 0\n",
      "descrip         : b''\n",
      "aux_file        : b''\n",
      "qform_code      : unknown\n",
      "sform_code      : aligned\n",
      "quatern_b       : 0.0\n",
      "quatern_c       : 0.0\n",
      "quatern_d       : 0.03340199\n",
      "qoffset_x       : -165.02063\n",
      "qoffset_y       : 21.76268\n",
      "qoffset_z       : 2.234228\n",
      "srow_x          : [   2.9933147    -0.20043327    0.         -165.02063   ]\n",
      "srow_y          : [ 0.20016693  2.9932969   0.         21.76268   ]\n",
      "srow_z          : [0.       0.       3.       2.234228]\n",
      "intent_name     : b''\n",
      "magic           : b'n+1'\n",
      "\n"
     ]
    }
   ],
   "source": [
    "print(erg)"
   ]
  },
  {
   "cell_type": "code",
   "execution_count": null,
   "id": "6dd49588-aca1-4532-a99f-a9b355ea08b2",
   "metadata": {},
   "outputs": [],
   "source": []
  }
 ],
 "metadata": {
  "kernelspec": {
   "display_name": "tucker311",
   "language": "python",
   "name": "tucker311"
  },
  "language_info": {
   "codemirror_mode": {
    "name": "ipython",
    "version": 3
   },
   "file_extension": ".py",
   "mimetype": "text/x-python",
   "name": "python",
   "nbconvert_exporter": "python",
   "pygments_lexer": "ipython3",
   "version": "3.10.12"
  }
 },
 "nbformat": 4,
 "nbformat_minor": 5
}
