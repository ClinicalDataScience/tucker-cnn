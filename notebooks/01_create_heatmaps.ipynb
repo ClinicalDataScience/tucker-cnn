{
 "cells": [
  {
   "cell_type": "code",
   "execution_count": 71,
   "id": "initial_id",
   "metadata": {
    "collapsed": true,
    "ExecuteTime": {
     "end_time": "2024-02-13T09:28:25.265742890Z",
     "start_time": "2024-02-13T09:28:25.198073965Z"
    }
   },
   "outputs": [],
   "source": [
    "import os\n",
    "from matplotlib import rc\n",
    "import matplotlib.pyplot as plt\n",
    "import pandas as pd\n",
    "import seaborn as sns\n",
    "\n",
    "rc('font', **{'family': 'serif', 'serif': ['Computer Modern']})\n",
    "rc('text', usetex=True)"
   ]
  },
  {
   "cell_type": "code",
   "outputs": [
    {
     "data": {
      "text/plain": "                                       name  rank_0  rank_1  rec_error  \\\n0  encoder.stages.0.0.convs.0.all_modules.0       1       1   2.449475   \n1  encoder.stages.0.0.convs.0.all_modules.0       2       1   2.107415   \n2  encoder.stages.0.0.convs.0.all_modules.0       4       1   1.345862   \n3  encoder.stages.0.0.convs.0.all_modules.0       6       1   0.786979   \n4  encoder.stages.0.0.convs.0.all_modules.0       8       1   0.570782   \n\n   rel_error  energy_error  fast  \n0   0.645357      0.416486     1  \n1   0.555235      0.308286     1  \n2   0.354591      0.125735     1  \n3   0.207344      0.042991     1  \n4   0.150382      0.022615     1  ",
      "text/html": "<div>\n<style scoped>\n    .dataframe tbody tr th:only-of-type {\n        vertical-align: middle;\n    }\n\n    .dataframe tbody tr th {\n        vertical-align: top;\n    }\n\n    .dataframe thead th {\n        text-align: right;\n    }\n</style>\n<table border=\"1\" class=\"dataframe\">\n  <thead>\n    <tr style=\"text-align: right;\">\n      <th></th>\n      <th>name</th>\n      <th>rank_0</th>\n      <th>rank_1</th>\n      <th>rec_error</th>\n      <th>rel_error</th>\n      <th>energy_error</th>\n      <th>fast</th>\n    </tr>\n  </thead>\n  <tbody>\n    <tr>\n      <th>0</th>\n      <td>encoder.stages.0.0.convs.0.all_modules.0</td>\n      <td>1</td>\n      <td>1</td>\n      <td>2.449475</td>\n      <td>0.645357</td>\n      <td>0.416486</td>\n      <td>1</td>\n    </tr>\n    <tr>\n      <th>1</th>\n      <td>encoder.stages.0.0.convs.0.all_modules.0</td>\n      <td>2</td>\n      <td>1</td>\n      <td>2.107415</td>\n      <td>0.555235</td>\n      <td>0.308286</td>\n      <td>1</td>\n    </tr>\n    <tr>\n      <th>2</th>\n      <td>encoder.stages.0.0.convs.0.all_modules.0</td>\n      <td>4</td>\n      <td>1</td>\n      <td>1.345862</td>\n      <td>0.354591</td>\n      <td>0.125735</td>\n      <td>1</td>\n    </tr>\n    <tr>\n      <th>3</th>\n      <td>encoder.stages.0.0.convs.0.all_modules.0</td>\n      <td>6</td>\n      <td>1</td>\n      <td>0.786979</td>\n      <td>0.207344</td>\n      <td>0.042991</td>\n      <td>1</td>\n    </tr>\n    <tr>\n      <th>4</th>\n      <td>encoder.stages.0.0.convs.0.all_modules.0</td>\n      <td>8</td>\n      <td>1</td>\n      <td>0.570782</td>\n      <td>0.150382</td>\n      <td>0.022615</td>\n      <td>1</td>\n    </tr>\n  </tbody>\n</table>\n</div>"
     },
     "execution_count": 72,
     "metadata": {},
     "output_type": "execute_result"
    }
   ],
   "source": [
    "path_1 = '../tucker_error.csv'\n",
    "path_2 = '../tucker_error_2.csv'\n",
    "\n",
    "df = pd.concat([pd.read_csv(path_1), pd.read_csv(path_2)])\n",
    "df.drop('Unnamed: 0', axis=1, inplace=True)\n",
    "df.reset_index(drop=True, inplace=True)\n",
    "df.head()"
   ],
   "metadata": {
    "collapsed": false,
    "ExecuteTime": {
     "end_time": "2024-02-13T09:28:25.266484876Z",
     "start_time": "2024-02-13T09:28:25.242854687Z"
    }
   },
   "id": "7a84d692bcc7257d",
   "execution_count": 72
  },
  {
   "cell_type": "code",
   "outputs": [
    {
     "name": "stdout",
     "output_type": "stream",
     "text": [
      "                                          name  rank_0  rank_1  rec_error  \\\n",
      "7472  encoder.stages.4.0.convs.0.all_modules.0       1       1  10.106873   \n",
      "7473  encoder.stages.4.0.convs.0.all_modules.0       1      16  10.060831   \n",
      "7474  encoder.stages.4.0.convs.0.all_modules.0       1      32  10.056524   \n",
      "7475  encoder.stages.4.0.convs.0.all_modules.0       1      48  10.056476   \n",
      "7476  encoder.stages.4.0.convs.0.all_modules.0       1      64  10.056441   \n",
      "\n",
      "      rel_error  energy_error  fast  \n",
      "7472   0.989179      0.978475     0  \n",
      "7473   0.984673      0.969580     0  \n",
      "7474   0.984251      0.968750     0  \n",
      "7475   0.984246      0.968741     0  \n",
      "7476   0.984243      0.968734     0  \n",
      "256\n"
     ]
    },
    {
     "data": {
      "text/plain": "<Figure size 600x400 with 2 Axes>",
      "image/png": "[encoded data removed]"
     },
     "metadata": {},
     "output_type": "display_data"
    }
   ],
   "source": [
    "layer_ids = df.name.unique()\n",
    "\n",
    "layer_name = layer_ids[8]\n",
    "error = 'energy_error'\n",
    "fast = 0\n",
    "filtered_df = df[df.name == layer_name]\n",
    "filtered_df = filtered_df.loc[df.fast == fast]\n",
    "print(filtered_df.head())\n",
    "print(len(filtered_df))\n",
    "\n",
    "heatmap_data = filtered_df.pivot_table(index='rank_1', columns='rank_0', values=error)\n",
    "heatmap_data.head()\n",
    "\n",
    "# # Create the heatmap\n",
    "plt.figure(figsize=(6, 4))\n",
    "ax = sns.heatmap(heatmap_data, cmap='turbo')\n",
    "ax.invert_yaxis()\n",
    "layer_str = layer_name.replace('.all_modules.0', '')\n",
    "plt.title(f'Layer: {layer_str}')\n",
    "plt.xlabel('Rank 0')\n",
    "plt.ylabel('Rank 1')\n",
    "plt.show()\n",
    "plt.close()"
   ],
   "metadata": {
    "collapsed": false,
    "ExecuteTime": {
     "end_time": "2024-02-13T09:28:25.647855018Z",
     "start_time": "2024-02-13T09:28:25.243138119Z"
    }
   },
   "id": "7f87f7ac0bc9849c",
   "execution_count": 73
  },
  {
   "cell_type": "code",
   "outputs": [
    {
     "name": "stdout",
     "output_type": "stream",
     "text": [
      "Layer name encoder.stages.5.0.convs.0.all_modules.0 faulty.\n",
      "Layer name encoder.stages.5.0.convs.1.all_modules.0 faulty.\n",
      "Layer name decoder.stages.4.convs.0.all_modules.0 faulty.\n",
      "Layer name decoder.stages.4.convs.1.all_modules.0 faulty.\n",
      "Layer name decoder.transpconvs.4 faulty.\n"
     ]
    },
    {
     "data": {
      "text/plain": "<Figure size 600x400 with 0 Axes>"
     },
     "metadata": {},
     "output_type": "display_data"
    },
    {
     "data": {
      "text/plain": "<Figure size 600x400 with 0 Axes>"
     },
     "metadata": {},
     "output_type": "display_data"
    },
    {
     "data": {
      "text/plain": "<Figure size 600x400 with 0 Axes>"
     },
     "metadata": {},
     "output_type": "display_data"
    },
    {
     "data": {
      "text/plain": "<Figure size 600x400 with 0 Axes>"
     },
     "metadata": {},
     "output_type": "display_data"
    },
    {
     "data": {
      "text/plain": "<Figure size 600x400 with 0 Axes>"
     },
     "metadata": {},
     "output_type": "display_data"
    }
   ],
   "source": [
    "target_dir = '../plots/energy_heatmaps'\n",
    "\n",
    "fast_idx = (0, 1)\n",
    "error = 'energy_error'\n",
    "\n",
    "for fast in fast_idx:\n",
    "    for layer_name in layer_ids:\n",
    "        filtered_df = df[df.name == layer_name]\n",
    "        filtered_df = filtered_df.loc[df.fast == fast]\n",
    "        \n",
    "        heatmap_data = filtered_df.pivot_table(index='rank_1', columns='rank_0', values=error)\n",
    "        heatmap_data.head()\n",
    "        \n",
    "        try:\n",
    "            # # Create the heatmap\n",
    "            plt.figure(figsize=(6, 4))\n",
    "            ax = sns.heatmap(heatmap_data, cmap='turbo')\n",
    "            ax.invert_yaxis()\n",
    "            layer_str = layer_name.replace('.all_modules.0', '')\n",
    "            plt.title(f'Layer: {layer_str}')\n",
    "            plt.xlabel('Rank 0')\n",
    "            plt.ylabel('Rank 1')\n",
    "            save_dir = os.path.join(target_dir + ('_fast' if fast else ''))\n",
    "            os.makedirs(save_dir, exist_ok=True)\n",
    "            plt.savefig(os.path.join(save_dir, layer_str + '.pdf'))\n",
    "            plt.close()\n",
    "        except ValueError:\n",
    "            print(f'Layer name {layer_name} faulty.')\n"
   ],
   "metadata": {
    "collapsed": false,
    "ExecuteTime": {
     "end_time": "2024-02-13T09:33:11.077059161Z",
     "start_time": "2024-02-13T09:32:48.463527364Z"
    }
   },
   "id": "ee90df15b59b99d4",
   "execution_count": 77
  }
 ],
 "metadata": {
  "kernelspec": {
   "display_name": "Python 3",
   "language": "python",
   "name": "python3"
  },
  "language_info": {
   "codemirror_mode": {
    "name": "ipython",
    "version": 2
   },
   "file_extension": ".py",
   "mimetype": "text/x-python",
   "name": "python",
   "nbconvert_exporter": "python",
   "pygments_lexer": "ipython2",
   "version": "2.7.6"
  }
 },
 "nbformat": 4,
 "nbformat_minor": 5
}
