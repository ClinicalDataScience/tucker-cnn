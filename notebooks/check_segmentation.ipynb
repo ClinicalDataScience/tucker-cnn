{
 "cells": [
  {
   "cell_type": "code",
   "execution_count": 1,
   "id": "8006c316-838a-4776-86e9-71a68b3c3899",
   "metadata": {},
   "outputs": [],
   "source": [
    "import SimpleITK as sitk\n",
    "import matplotlib.pylab as plt\n",
    "import numpy as np"
   ]
  },
  {
   "cell_type": "code",
   "execution_count": 31,
   "id": "a5a2daff-c782-44aa-87e6-d77bd7e36a4d",
   "metadata": {},
   "outputs": [
    {
     "data": {
      "text/plain": [
       "array([43, 64])"
      ]
     },
     "execution_count": 31,
     "metadata": {},
     "output_type": "execute_result"
    }
   ],
   "source": [
    "np.minimum(64, [43, 117])"
   ]
  },
  {
   "cell_type": "code",
   "execution_count": 28,
   "id": "24c98fb6-0945-4c6c-90cb-368f5ee5e49d",
   "metadata": {},
   "outputs": [],
   "source": [
    "path = \"output2/spleen.nii.gz\"\n",
    "path2 = \"data/Task09_Spleen/labelsTr/spleen_10.nii.gz\"\n",
    "path_tucker = \"output3/spleen.nii.gz\""
   ]
  },
  {
   "cell_type": "code",
   "execution_count": 21,
   "id": "ebf8ef55-7f52-4725-8a8c-66f581672774",
   "metadata": {},
   "outputs": [],
   "source": [
    "def read(path):\n",
    "    sitk_array = sitk.ReadImage(path, sitk.sitkFloat32)\n",
    "    return sitk.GetArrayFromImage(sitk_array)"
   ]
  },
  {
   "cell_type": "code",
   "execution_count": 22,
   "id": "a396f0a4-e4ab-416d-a71e-a5c2c8f15e55",
   "metadata": {},
   "outputs": [],
   "source": [
    "pred = read(path)"
   ]
  },
  {
   "cell_type": "code",
   "execution_count": 32,
   "id": "9b6ba9d1-3c5d-4188-881d-06643654d86a",
   "metadata": {},
   "outputs": [],
   "source": [
    "pred_tucker = read(path_tucker)"
   ]
  },
  {
   "cell_type": "code",
   "execution_count": 29,
   "id": "1b63a705-f36a-40f1-a463-747c073bd404",
   "metadata": {},
   "outputs": [],
   "source": [
    "true = read(path2)"
   ]
  },
  {
   "cell_type": "code",
   "execution_count": 25,
   "id": "6e9f9898-2b6c-434f-914c-701ed2d9cd93",
   "metadata": {},
   "outputs": [],
   "source": [
    "def dice_score(mask1,mask2):\n",
    "    # compute foreground Dice coefficient\n",
    "    overlap = (mask1*mask2).sum()\n",
    "    sum = mask1.sum()+mask2.sum()\n",
    "    dice_score = 2*overlap/sum\n",
    "    return dice_score"
   ]
  },
  {
   "cell_type": "code",
   "execution_count": 33,
   "id": "f1142abc-6aa2-4318-8080-4d434e8ce5bf",
   "metadata": {},
   "outputs": [
    {
     "data": {
      "text/plain": [
       "0.0"
      ]
     },
     "execution_count": 33,
     "metadata": {},
     "output_type": "execute_result"
    }
   ],
   "source": [
    "dice_score(true, pred_tucker)"
   ]
  },
  {
   "cell_type": "code",
   "execution_count": 30,
   "id": "40f15651-f51f-4aaf-9539-aa6dd25e7b6c",
   "metadata": {},
   "outputs": [
    {
     "data": {
      "text/plain": [
       "0.9551977826762279"
      ]
     },
     "execution_count": 30,
     "metadata": {},
     "output_type": "execute_result"
    }
   ],
   "source": [
    "dice_score(true, pred)"
   ]
  },
  {
   "cell_type": "code",
   "execution_count": 16,
   "id": "9b287dd9-c466-420d-913e-098b2df4a14f",
   "metadata": {},
   "outputs": [
    {
     "data": {
      "text/plain": [
       "(55, 512, 512)"
      ]
     },
     "execution_count": 16,
     "metadata": {},
     "output_type": "execute_result"
    }
   ],
   "source": [
    "pred.shape"
   ]
  },
  {
   "cell_type": "code",
   "execution_count": 15,
   "id": "33e9bd2c-23f3-480a-8893-21ca279dd845",
   "metadata": {},
   "outputs": [
    {
     "data": {
      "text/plain": [
       "<matplotlib.image.AxesImage at 0x146018245060>"
      ]
     },
     "execution_count": 15,
     "metadata": {},
     "output_type": "execute_result"
    },
    {
     "data": {
      "image/png": "[encoded data removed]",
      "text/plain": [
       "<Figure size 640x480 with 1 Axes>"
      ]
     },
     "metadata": {},
     "output_type": "display_data"
    }
   ],
   "source": [
    "plt.imshow(np.amax(true, axis=0))"
   ]
  },
  {
   "cell_type": "code",
   "execution_count": 27,
   "id": "96d1dad5-9ae4-4994-a69f-c95f43519297",
   "metadata": {},
   "outputs": [
    {
     "data": {
      "text/plain": [
       "<matplotlib.image.AxesImage at 0x14a57e4c5ea0>"
      ]
     },
     "execution_count": 27,
     "metadata": {},
     "output_type": "execute_result"
    },
    {
     "data": {
      "image/png": "[encoded data removed]",
      "text/plain": [
       "<Figure size 640x480 with 1 Axes>"
      ]
     },
     "metadata": {},
     "output_type": "display_data"
    }
   ],
   "source": [
    "plt.imshow(np.amax(pred_tucker, axis=0))"
   ]
  },
  {
   "cell_type": "code",
   "execution_count": null,
   "id": "1a50b34b-8455-4488-99ed-3c04a7de3a68",
   "metadata": {},
   "outputs": [],
   "source": []
  }
 ],
 "metadata": {
  "kernelspec": {
   "display_name": "tucker311",
   "language": "python",
   "name": "tucker311"
  },
  "language_info": {
   "codemirror_mode": {
    "name": "ipython",
    "version": 3
   },
   "file_extension": ".py",
   "mimetype": "text/x-python",
   "name": "python",
   "nbconvert_exporter": "python",
   "pygments_lexer": "ipython3",
   "version": "3.10.12"
  }
 },
 "nbformat": 4,
 "nbformat_minor": 5
}
