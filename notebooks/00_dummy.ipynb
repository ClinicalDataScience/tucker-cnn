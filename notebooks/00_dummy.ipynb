{
 "cells": [
  {
   "cell_type": "code",
   "outputs": [
    {
     "name": "stdout",
     "output_type": "stream",
     "text": [
      "nnUNet_raw is not defined and nnU-Net can only be used on data for which preprocessed files are already present on your system. nnU-Net cannot be used for experiment planning and preprocessing like this. If this is not intended, please read documentation/setting_up_paths.md for information on how to set this up properly.\n",
      "nnUNet_preprocessed is not defined and nnU-Net can not be used for preprocessing or training. If this is not intended, please read documentation/setting_up_paths.md for information on how to set this up.\n",
      "nnUNet_results is not defined and nnU-Net cannot be used for training or inference. If this is not intended behavior, please read documentation/setting_up_paths.md for information on how to set this up.\n",
      "['02.yml', '07_fast.yml', '08.yml', '01.yml', '07.yml', '05.yml', '02_fast.yml', '05_fast.yml', '03.yml', '04_fast.yml', '06_fast.yml', '03_fast.yml', '08_fast.yml', '01_fast.yml', '06.yml', '04.yml']\n"
     ]
    }
   ],
   "source": [
    "%load_ext autoreload\n",
    "%autoreload 2\n",
    "\n",
    "import os\n",
    "\n",
    "from tuckercnn.utils import read_yml, save_yml\n",
    "\n",
    "config_root = '../configs_grid'\n",
    "config_target = '../configs_finetunegrid'\n",
    "os.makedirs(config_target, exist_ok=True)\n",
    "\n",
    "base_cfg = read_yml('../configs/finetune_baseline.yml')\n",
    "\n",
    "cfg_files = os.listdir(config_root)\n",
    "cfg_files = [f for f in cfg_files if '00' not in f]\n",
    "\n",
    "print(cfg_files)"
   ],
   "metadata": {
    "collapsed": false,
    "ExecuteTime": {
     "end_time": "2024-03-14T10:22:41.529501Z",
     "start_time": "2024-03-14T10:22:36.299443Z"
    }
   },
   "id": "fcb08d137012c0a7",
   "execution_count": 1
  },
  {
   "cell_type": "code",
   "outputs": [],
   "source": [
    "cfg_fast = [f for f in cfg_files if '_fast' in f]\n",
    "\n",
    "dataset_id = '008'\n",
    "pretrained_weights = '/data/core-rad/data/tucker/results/Dataset297_TotalSegmentator_total_3mm_1559subj/nnUNetTrainer_4000epochs_NoMirroring__nnUNetPlans__3d_fullres/fold_0/checkpoint_final.pth'\n",
    "\n",
    "base_cfg['dataset_id'] = dataset_id\n",
    "base_cfg['pretrained_weights'] = pretrained_weights\n",
    "\n",
    "for f in cfg_fast:\n",
    "    cfg = read_yml(os.path.join(config_root, f))\n",
    "\n",
    "    base_cfg['tucker_config'] = cfg['tucker_config']\n",
    "    base_cfg['tucker_config']['ckpt_path'] = base_cfg['tucker_config']['ckpt_path'].replace('checkpoints','checkpoints_finetune')\n",
    "    base_cfg['tucker_config']['save_model'] = True\n",
    "    base_cfg['tucker_config']['load_model'] = False\n",
    "\n",
    "    f = f.replace('.yml', '')\n",
    "    f += '_ds' + dataset_id + '.yml'\n",
    "    save_yml(base_cfg, os.path.join(config_target, f))"
   ],
   "metadata": {
    "collapsed": false,
    "ExecuteTime": {
     "end_time": "2024-03-14T10:22:41.591066Z",
     "start_time": "2024-03-14T10:22:41.531860Z"
    }
   },
   "id": "19248774d0272a5",
   "execution_count": 2
  },
  {
   "cell_type": "code",
   "outputs": [
    {
     "name": "stdout",
     "output_type": "stream",
     "text": [
      "02_ds001.yml\n",
      "08_ds001.yml\n",
      "01_ds001.yml\n",
      "07_ds001.yml\n",
      "05_ds001.yml\n",
      "03_ds001.yml\n",
      "06_ds001.yml\n",
      "04_ds001.yml\n",
      "02_ds002.yml\n",
      "08_ds002.yml\n",
      "01_ds002.yml\n",
      "07_ds002.yml\n",
      "05_ds002.yml\n",
      "03_ds002.yml\n",
      "06_ds002.yml\n",
      "04_ds002.yml\n",
      "02_ds003.yml\n",
      "08_ds003.yml\n",
      "01_ds003.yml\n",
      "07_ds003.yml\n",
      "05_ds003.yml\n",
      "03_ds003.yml\n",
      "06_ds003.yml\n",
      "04_ds003.yml\n",
      "02_ds004.yml\n",
      "08_ds004.yml\n",
      "01_ds004.yml\n",
      "07_ds004.yml\n",
      "05_ds004.yml\n",
      "03_ds004.yml\n",
      "06_ds004.yml\n",
      "04_ds004.yml\n",
      "02_ds005.yml\n",
      "08_ds005.yml\n",
      "01_ds005.yml\n",
      "07_ds005.yml\n",
      "05_ds005.yml\n",
      "03_ds005.yml\n",
      "06_ds005.yml\n",
      "04_ds005.yml\n"
     ]
    }
   ],
   "source": [
    "cfgs = [f for f in cfg_files if '_fast' not in f]\n",
    "\n",
    "ds = {\n",
    "    '001': '/data/core-rad/data/tucker/results/Dataset291_TotalSegmentator_part1_organs_1559subj/nnUNetTrainerNoMirroring__nnUNetPlans__3d_fullres/fold_0/checkpoint_final.pth',\n",
    "    '002': '/data/core-rad/data/tucker/results/Dataset292_TotalSegmentator_part2_vertebrae_1532subj/nnUNetTrainerNoMirroring__nnUNetPlans__3d_fullres/fold_0/checkpoint_final.pth',\n",
    "    '003': '/data/core-rad/data/tucker/results/Dataset293_TotalSegmentator_part3_cardiac_1559subj/nnUNetTrainerNoMirroring__nnUNetPlans__3d_fullres/fold_0/checkpoint_final.pth',\n",
    "    '004': '/data/core-rad/data/tucker/results/Dataset294_TotalSegmentator_part4_muscles_1559subj/nnUNetTrainerNoMirroring__nnUNetPlans__3d_fullres/fold_0/checkpoint_final.pth',\n",
    "    '005': '/data/core-rad/data/tucker/results/Dataset295_TotalSegmentator_part5_ribs_1559subj/nnUNetTrainerNoMirroring__nnUNetPlans__3d_fullres/fold_0/checkpoint_final.pth',\n",
    "}\n",
    "\n",
    "for key, val in ds.items():\n",
    "\n",
    "    base_cfg['dataset_id'] = key\n",
    "    base_cfg['pretrained_weights'] = val\n",
    "\n",
    "\n",
    "    for f in cfgs:\n",
    "        cfg = read_yml(os.path.join(config_root, f))\n",
    "        base_cfg['tucker_config'] = cfg['tucker_config']\n",
    "        base_cfg['tucker_config']['ckpt_path'] = base_cfg['tucker_config']['ckpt_path'].replace('checkpoints','checkpoints_finetune')\n",
    "        base_cfg['tucker_config']['save_model'] = True\n",
    "        base_cfg['tucker_config']['load_model'] = False\n",
    "\n",
    "        f = f.replace('.yml', '')\n",
    "        f += '_ds' + key + '.yml'\n",
    "\n",
    "        print(f)\n",
    "        save_yml(base_cfg, os.path.join(config_target, f))\n"
   ],
   "metadata": {
    "collapsed": false,
    "ExecuteTime": {
     "end_time": "2024-03-14T10:22:41.750806Z",
     "start_time": "2024-03-14T10:22:41.592783Z"
    }
   },
   "id": "f020731eccb37651",
   "execution_count": 3
  }
 ],
 "metadata": {
  "kernelspec": {
   "display_name": "Python 3",
   "language": "python",
   "name": "python3"
  },
  "language_info": {
   "codemirror_mode": {
    "name": "ipython",
    "version": 2
   },
   "file_extension": ".py",
   "mimetype": "text/x-python",
   "name": "python",
   "nbconvert_exporter": "python",
   "pygments_lexer": "ipython2",
   "version": "2.7.6"
  }
 },
 "nbformat": 4,
 "nbformat_minor": 5
}
